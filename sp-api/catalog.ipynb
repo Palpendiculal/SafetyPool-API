{
 "cells": [
  {
   "cell_type": "code",
   "execution_count": 41,
   "metadata": {},
   "outputs": [],
   "source": [
    "from IPython.core.interactiveshell import InteractiveShell\n",
    "InteractiveShell.ast_node_interactivity = \"all\"\n",
    "import json\n",
    "from collections import OrderedDict"
   ]
  },
  {
   "cell_type": "code",
   "execution_count": 42,
   "metadata": {},
   "outputs": [],
   "source": [
    "# pwd\n",
    "path = '/home/varunsingh/_Carla/SafetyPool-API/sp-api/Generated SDL/15C613E8-3535-4E0F-8A88-8C12A45F6248.sdl'\n",
    "path_openlabel = '/home/varunsingh/_Carla/SafetyPool-API/sp-api/Generated OpenLabel/2CAA3189-3A7C-4E20-8FE8-CDA821B66B23openlabel.sdl'\n"
   ]
  },
  {
   "cell_type": "code",
   "execution_count": 43,
   "metadata": {},
   "outputs": [],
   "source": [
    "# Read the sdl file\n",
    "with open(path, 'r') as file:\n",
    "    data = file.read()"
   ]
  },
  {
   "cell_type": "code",
   "execution_count": 44,
   "metadata": {},
   "outputs": [],
   "source": [
    "# Read the OpelLabelDict file\n",
    "with open(path_openlabel, 'r') as file:\n",
    "    data_openlabel = file.read()"
   ]
  },
  {
   "cell_type": "code",
   "execution_count": 45,
   "metadata": {},
   "outputs": [
    {
     "data": {
      "text/plain": [
       "list"
      ]
     },
     "execution_count": 45,
     "metadata": {},
     "output_type": "execute_result"
    }
   ],
   "source": [
    "#  Get each line from the sdl\n",
    "data_lines = data.splitlines()\n",
    "# data_lines\n",
    "type(data_lines)\n",
    "break_index = [i for i,k in enumerate(data_lines) if k==\"\" ]\n",
    "break_index.insert(0,0)\n",
    "\n"
   ]
  },
  {
   "cell_type": "code",
   "execution_count": 46,
   "metadata": {},
   "outputs": [],
   "source": [
    "dict_openlabel = json.loads(data_openlabel)"
   ]
  },
  {
   "cell_type": "code",
   "execution_count": 61,
   "metadata": {},
   "outputs": [
    {
     "data": {
      "text/plain": [
       "dict_values([{'type': 'LaneMarkingBrokenLine', 'ontology_uid': '0'}, {'type': 'scenarioUniqueReference', 'ontology_uid': '1', 'tag_data': {'text': [{'type': 'value', 'val': '2caa3189-3a7c-4e20-8fe8-cda821b66b23'}]}}, {'type': 'scenarioParentReference', 'ontology_uid': '1', 'tag_data': {'text': [{'type': 'value', 'val': 'a5327c50-203e-4e59-822c-78d6a0e0617f'}]}}, {'type': 'scenarioDescription', 'ontology_uid': '1', 'tag_data': {'text': [{'type': 'value', 'val': 'ALKS Follow Lead Vehicle Emergency Brake'}]}}, {'type': 'scenarioVersion', 'ontology_uid': '1', 'tag_data': {'text': [{'type': 'value', 'val': '2.1'}]}}, {'type': 'scenarioCreatedDate', 'ontology_uid': '1', 'tag_data': {'text': [{'type': 'value', 'val': '2022-11-28 12:36:02Z'}]}}, {'type': 'scenarioDefinition', 'ontology_uid': '1', 'tag_data': {'text': [{'type': 'value', 'val': \"VERSION: 8.1\\nEXTENSION: None\\nAUTHOR: 'WMG, Intelligent Vehicles - V&V Team (https://warwick.ac.uk/fac/sci/wmg/research/cav/vandv/)'\\n\\nSCENERY ELEMENTS:\\nDO: Map - roads and junctions network [Network1] as: \\nJunctions: None\\nRoads:\\nR1: \\nSTART\\nRoad type [Motorway] as [R1] with zone as [N/A] AND speed limit of [N/A] in an [N/A] environment with \\n Number of lanes [3] as [R1.L1, R1.L2, R1.L3] \\n Road traffic direction [Right-handed] \\n Lane type [Traffic lane]   \\n Lane markings [Broken line] \\n Horizontal road geometry [Straight] \\n Vertical road geometry [Level plane]\\n Transverse road geometry [Divided] \\n Length [9000 to 11000] AND Lane width [3.4 to 3.7] \\nEND\\n\\nDYNAMIC ELEMENTS:\\nINITIAL: \\tVehicle [Ego] in [R1.L2] \\n\\t\\tAND Vehicle [LeadVehicle] in [R1.L2] \\n\\t\\t\\twith a [Longitudinal] offset of [30 to 35]\\n\\t\\t\\tAND at relative position [F] with relative heading angle [0 to 5] to [Ego]\\n\\t\\tAND Global timer [T1] = [0]\\nWHEN: [Ego] is [Going_Ahead]\\n\\tDO: [LeadVehicle]\\n\\t\\tPHASE 1:[Drive_Away][-, 16 to 17,  -0.1 to 0.1][Ego: -1 to 1, F]\\n\\t\\t\\tWHILE: [T1] < [10]\\n\\t\\tPHASE 2:[Stop][-, 0 to 0, 0 to 0][Ego: -17 to -16, F]\\nEND: [T1] == [40]\\n\\nENVIRONMENT ELEMENTS:\\nDO: [Env1]\\n  Wind [0 to 0.2]\\n  Cloudiness [0 to 1]\\n  Particulates [None]\\n  Rainfall [None: N/A]\\n  Snowfall [None: N/A]\\n  Time of the day [03:00 to 06:00]\\n  Illumination [Day] with [Sun] as light source at [10 to 30] degree elevation AND [F] position\"}]}}, {'type': 'scenarioDefinitionLanguageURI', 'ontology_uid': '1', 'tag_data': {'text': [{'type': 'value', 'val': 'https://warwick.ac.uk/fac/sci/wmg/research/cav/vandv/lang/sdl/level2/v8.1'}]}}, {'type': 'ownerName', 'ontology_uid': '1', 'tag_data': {'text': [{'type': 'value', 'val': 'WMG'}]}}, {'type': 'licenseURI', 'ontology_uid': '1', 'tag_data': {'text': [{'type': 'value', 'val': 'https://live.safetypooldb.ai/identity/scriptlicense'}]}}])"
      ]
     },
     "execution_count": 61,
     "metadata": {},
     "output_type": "execute_result"
    }
   ],
   "source": [
    "# dict_openlabel[\"metadata\"]\n",
    "# dict_openlabel[\"ontologies\"]\n",
    "# tagdict=dict_openlabel[\"tags\"]\n",
    "# tagdict.values()\n",
    "# 'line' in dict_openlabel[\"tags\"][\"0\"][\"type\"].lower()\n",
    "\n",
    "# row_dic\n"
   ]
  },
  {
   "cell_type": "code",
   "execution_count": 136,
   "metadata": {},
   "outputs": [
    {
     "name": "stdout",
     "output_type": "stream",
     "text": [
      "LaneMarkingBrokenLine\n",
      "scenarioUniqueReference\n",
      "scenarioParentReference\n",
      "scenarioDescription\n",
      "scenarioVersion\n",
      "scenarioCreatedDate\n",
      "scenarioDefinition\n",
      "scenarioDefinitionLanguageURI\n",
      "ownerName\n",
      "licenseURI\n"
     ]
    }
   ],
   "source": [
    "# Function to parse tags\n",
    "row_dic = OrderedDict()\n",
    "row_dic = {\"ScenarioID\":\"\",\"ScenarioDescription\":\"\",\"ParentReference\":\"\",\"OwnerName\":\"\",\"VersionInfo\":\"\",\"SceneryElements\":\"\",\"EnvironmentElement\":\"\",\"DynamicElements\":\"\",\"TrafficElements\":\"\",\"HazardLevel\":\"\"}\n",
    "# dict_openlabel[\"tags\"].values()\n",
    "\n",
    "# if '' in v[\"type\"].lower():\n",
    "#         row_dic[] = v[\"type\"]\n",
    "\n",
    "# def parseTags(tagdictionary,rowdic):\n",
    "#     '''\n",
    "#     input dict_openlabel[\"tags\"]\n",
    "#     outout will be a row for dataframe\n",
    "#     '''\n",
    "#     for k,v in enumerate(tagdictionary):\n",
    "#         if \n",
    "        \n",
    "for k,v in dict_openlabel[\"tags\"].items():\n",
    "    print(v[\"type\"])\n",
    "    # Hazard Level\n",
    "    if 'hazard' in v[\"type\"].lower():\n",
    "        row_dic[\"HazardLevel\"] = v[\"type\"]\n",
    "    # UniqueReference\n",
    "    if 'scenariouniquereference' in v[\"type\"].lower():\n",
    "        row_dic[\"ScenarioID\"] = v[\"tag_data\"][\"text\"][0][\"val\"]\n",
    "    # ScenarioParentReference\n",
    "    if 'scenarioparentreference' in v[\"type\"].lower():\n",
    "        row_dic[\"ParentReference\"] = v[\"tag_data\"][\"text\"][0][\"val\"]\n",
    "    # ScenarioDescription\n",
    "    if 'scenariodescription' in v[\"type\"].lower():\n",
    "        row_dic[\"ScenarioDescription\"] = v[\"tag_data\"][\"text\"][0][\"val\"]\n",
    "    # OwnerName\n",
    "    if 'ownername' in v[\"type\"].lower():\n",
    "        row_dic[\"OwnerName\"] = v[\"tag_data\"][\"text\"][0][\"val\"]\n",
    "    # scenarioDefinition\n",
    "    # if 'scenariodefinition' in v[\"type\"].lower():\n",
    "        \n",
    "\n",
    "    \n",
    "    "
   ]
  },
  {
   "cell_type": "code",
   "execution_count": 86,
   "metadata": {},
   "outputs": [
    {
     "data": {
      "text/plain": [
       "{'ScenarioID': '2caa3189-3a7c-4e20-8fe8-cda821b66b23',\n",
       " 'ScenarioDescription': 'ALKS Follow Lead Vehicle Emergency Brake',\n",
       " 'ParentReference': 'a5327c50-203e-4e59-822c-78d6a0e0617f',\n",
       " 'OwnerName': 'WMG',\n",
       " 'VersionInfo': '',\n",
       " 'SceneryElements': '',\n",
       " 'EnvironmentElement': '',\n",
       " 'DynamicElements': '',\n",
       " 'TrafficElements': '',\n",
       " 'HazardLevel': ''}"
      ]
     },
     "execution_count": 86,
     "metadata": {},
     "output_type": "execute_result"
    }
   ],
   "source": [
    "row_dic"
   ]
  },
  {
   "cell_type": "code",
   "execution_count": 84,
   "metadata": {},
   "outputs": [
    {
     "data": {
      "text/plain": [
       "['VERSION: 8.1',\n",
       " 'EXTENSION: None',\n",
       " \"AUTHOR: 'WMG, Intelligent Vehicles - V&V Team (https://warwick.ac.uk/fac/sci/wmg/research/cav/vandv/)'\",\n",
       " '',\n",
       " 'SCENERY ELEMENTS:',\n",
       " 'DO: Map - roads and junctions network [Network1] as: ',\n",
       " 'Junctions: None',\n",
       " 'Roads:',\n",
       " 'R1: ',\n",
       " 'START',\n",
       " 'Road type [Motorway] as [R1] with zone as [N/A] AND speed limit of [N/A] in an [N/A] environment with ',\n",
       " ' Number of lanes [3] as [R1.L1, R1.L2, R1.L3] ',\n",
       " ' Road traffic direction [Right-handed] ',\n",
       " ' Lane type [Traffic lane]   ',\n",
       " ' Lane markings [Broken line] ',\n",
       " ' Horizontal road geometry [Straight] ',\n",
       " ' Vertical road geometry [Level plane]',\n",
       " ' Transverse road geometry [Divided] ',\n",
       " ' Length [9000 to 11000] AND Lane width [3.4 to 3.7] ',\n",
       " 'END',\n",
       " '',\n",
       " 'DYNAMIC ELEMENTS:',\n",
       " 'INITIAL: \\tVehicle [Ego] in [R1.L2] ',\n",
       " '\\t\\tAND Vehicle [LeadVehicle] in [R1.L2] ',\n",
       " '\\t\\t\\twith a [Longitudinal] offset of [30 to 35]',\n",
       " '\\t\\t\\tAND at relative position [F] with relative heading angle [0 to 5] to [Ego]',\n",
       " '\\t\\tAND Global timer [T1] = [0]',\n",
       " 'WHEN: [Ego] is [Going_Ahead]',\n",
       " '\\tDO: [LeadVehicle]',\n",
       " '\\t\\tPHASE 1:[Drive_Away][-, 16 to 17,  -0.1 to 0.1][Ego: -1 to 1, F]',\n",
       " '\\t\\t\\tWHILE: [T1] < [10]',\n",
       " '\\t\\tPHASE 2:[Stop][-, 0 to 0, 0 to 0][Ego: -17 to -16, F]',\n",
       " 'END: [T1] == [40]',\n",
       " '',\n",
       " 'ENVIRONMENT ELEMENTS:',\n",
       " 'DO: [Env1]',\n",
       " '  Wind [0 to 0.2]',\n",
       " '  Cloudiness [0 to 1]',\n",
       " '  Particulates [None]',\n",
       " '  Rainfall [None: N/A]',\n",
       " '  Snowfall [None: N/A]',\n",
       " '  Time of the day [03:00 to 06:00]',\n",
       " '  Illumination [Day] with [Sun] as light source at [10 to 30] degree elevation AND [F] position']"
      ]
     },
     "execution_count": 84,
     "metadata": {},
     "output_type": "execute_result"
    }
   ],
   "source": [
    "# function to parse 'VersionInfo': '', 'SceneryElements': '', 'DynamicElements': '', 'TrafficElements': ''\n",
    "# def parseScenarioDefinition(scenarioDefinition):\n",
    "# scenarioDefLines = dict_openlabel[\"tags\"][\"6\"][\"tag_data\"][\"text\"][0][\"val\"].splitlines()\n",
    "# type(dict_openlabel[\"tags\"][\"6\"][\"tag_data\"][\"text\"][0][\"val\"])\n",
    "scenarioDefLines\n",
    "# type(scenarioDefLines)\n",
    "# temp = scenarioDefLines.copy()\n",
    "\n",
    "# get idex of tags\n",
    "i = 0\n",
    "idxlist = []\n",
    "for line in scenarioDefLines:\n",
    "    if 'VERSION:' in line:\n",
    "        idxlist.append(i)\n",
    "    if 'SCENERY ELEMENTS:' in line:\n",
    "        idxlist.append(i)\n",
    "    if 'DYNAMIC ELEMENTS:' in line:\n",
    "        idxlist.append(i)\n",
    "    if 'ENVIRONMENT ELEMENTS:' in line:\n",
    "        idxlist.append(i)\n",
    "    if 'TRAFFIC ELEMENTS:' in line:\n",
    "        idxlist.append(i)\n",
    "    i = i+1\n",
    "\n",
    "for i in range(0,len(idxlist)-1):\n",
    "    if break_index[i]==0:\n",
    "        dic[f\"{data_lines[break_index[i]][0:7]}\"]=', '.join(data_lines[0:break_index[i+1]])\n",
    "    else :\n",
    "        dic[f\"{data_lines[break_index[i]+1][0:-1]}\"]=', '.join(data_lines[break_index[i]+2:break_index[i+1]])\n",
    "\n",
    "# for line in scenarioDefLines:\n",
    "#     if 'VERSION' in line:\n",
    "#         while ('SCENERY ELEMENTS' not in line):\n",
    "#             temp.append(line)\n",
    "#         row_dic[\"VersionInfo\"] = ', '.join(temp[:])\n",
    "#         temp.clear()\n",
    "#     if 'SCENERY ELEMENTS' in line:\n",
    "#         while ('DYNAMIC ELEMENTS' not in line):\n",
    "#             temp.append(line)\n",
    "#         row_dic[\"OwnerName\"] = ', '.join(temp[:])\n",
    "#         temp.clear()\n",
    "\n"
   ]
  },
  {
   "cell_type": "code",
   "execution_count": 83,
   "metadata": {},
   "outputs": [
    {
     "data": {
      "text/plain": [
       "[0, 4, 21, 34]"
      ]
     },
     "execution_count": 83,
     "metadata": {},
     "output_type": "execute_result"
    }
   ],
   "source": [
    "idxlist"
   ]
  },
  {
   "cell_type": "code",
   "execution_count": 60,
   "metadata": {},
   "outputs": [
    {
     "data": {
      "text/plain": [
       "{'ScenarioID': '2caa3189-3a7c-4e20-8fe8-cda821b66b23',\n",
       " 'ScenarioDescription': 'ALKS Follow Lead Vehicle Emergency Brake',\n",
       " 'ParentReference': 'a5327c50-203e-4e59-822c-78d6a0e0617f',\n",
       " 'OwnerName': 'WMG',\n",
       " 'VersionInfo': '',\n",
       " 'SceneryElements': '',\n",
       " 'DynamicElements': '',\n",
       " 'TrafficElements': '',\n",
       " 'HazardLevel': ''}"
      ]
     },
     "execution_count": 60,
     "metadata": {},
     "output_type": "execute_result"
    }
   ],
   "source": [
    "row_dic"
   ]
  },
  {
   "cell_type": "code",
   "execution_count": 21,
   "metadata": {},
   "outputs": [
    {
     "data": {
      "text/plain": [
       "['VERSION: 8.1',\n",
       " 'EXTENSION: None',\n",
       " \"AUTHOR: 'WMG, Intelligent Vehicles - V&V Team (https://warwick.ac.uk/fac/sci/wmg/research/cav/vandv/)'\"]"
      ]
     },
     "execution_count": 21,
     "metadata": {},
     "output_type": "execute_result"
    }
   ],
   "source": [
    "# break_index\n",
    "data_lines[0:3]\n"
   ]
  },
  {
   "cell_type": "code",
   "execution_count": 109,
   "metadata": {},
   "outputs": [],
   "source": [
    "i = 0\n",
    "idxlist = []\n",
    "for line in scenarioDefLines:\n",
    "    if 'VERSION:' in line:\n",
    "        idxlist.append(i)\n",
    "    if 'SCENERY ELEMENTS:' in line:\n",
    "        idxlist.append(i)\n",
    "    if 'DYNAMIC ELEMENTS:' in line:\n",
    "        idxlist.append(i)\n",
    "    if 'ENVIRONMENT ELEMENTS:' in line:\n",
    "        idxlist.append(i)\n",
    "    if 'TRAFFIC ELEMENTS:' in line:\n",
    "        idxlist.append(i)\n",
    "    i = i+1\n",
    "# Make a dictionary of different Definition tags\n",
    "dic = {}\n",
    "for i in range(0,len(idxlist)-1):\n",
    "    if i==0 :\n",
    "        row_dic[\"VersionInfo\"]=', '.join(data_lines[0:idxlist[i+1]])\n",
    "    if i==1 :\n",
    "        row_dic[\"SceneryElements\"]=', '.join(data_lines[idxlist[i]+2:idxlist[i+1]])\n",
    "    if i==2 :\n",
    "        row_dic[\"\"]=', '.join(data_lines[idxlist[i]+2:idxlist[i+1]])\n",
    "\n",
    "        \n",
    "        \n",
    "# dic"
   ]
  },
  {
   "cell_type": "code",
   "execution_count": 101,
   "metadata": {},
   "outputs": [
    {
     "data": {
      "text/plain": [
       "{'ScenarioID': '2caa3189-3a7c-4e20-8fe8-cda821b66b23',\n",
       " 'ScenarioDescription': 'ALKS Follow Lead Vehicle Emergency Brake',\n",
       " 'ParentReference': 'a5327c50-203e-4e59-822c-78d6a0e0617f',\n",
       " 'OwnerName': 'WMG',\n",
       " 'VersionInfo': '',\n",
       " 'SceneryElements': '',\n",
       " 'EnvironmentElement': '',\n",
       " 'DynamicElements': '',\n",
       " 'TrafficElements': '',\n",
       " 'HazardLevel': ''}"
      ]
     },
     "execution_count": 101,
     "metadata": {},
     "output_type": "execute_result"
    }
   ],
   "source": [
    "row_dic"
   ]
  },
  {
   "cell_type": "code",
   "execution_count": 167,
   "metadata": {},
   "outputs": [],
   "source": [
    "scenariostr = dict_openlabel[\"tags\"][\"6\"][\"tag_data\"][\"text\"][0][\"val\"]\n",
    "scenariodic = {}\n",
    "scenarioidx = []\n",
    "# dict_openlabel[\"tags\"][\"6\"][\"tag_data\"][\"text\"][0][\"val\"].index('TRAFFIC ELEMENTS:')\n",
    "# dict_openlabel[\"tags\"][\"6\"][\"tag_data\"][\"text\"][0][\"val\"][0:133]\n",
    "if  'VERSION:' in scenariostr:\n",
    "    scenariodic[\"VersionInfo\"] = scenariostr.index('VERSION:')\n",
    "    scenarioidx.append(scenariostr.index('VERSION:'))\n",
    "\n",
    "if 'SCENERY ELEMENTS:' in scenariostr:\n",
    "    scenariodic[\"SceneryElements\"] = scenariostr.index('SCENERY ELEMENTS:')\n",
    "    scenarioidx.append(scenariostr.index('SCENERY ELEMENTS:'))\n",
    "\n",
    "if 'DYNAMIC ELEMENTS:' in scenariostr:\n",
    "    scenariodic[\"DynamicElements\"] = scenariostr.index('DYNAMIC ELEMENTS:')\n",
    "    scenarioidx.append(scenariostr.index('DYNAMIC ELEMENTS:'))\n",
    "\n",
    "if 'ENVIRONMENT ELEMENTS:' in scenariostr:\n",
    "    scenariodic[\"EnvironmentElement\"] = scenariostr.index('ENVIRONMENT ELEMENTS:')\n",
    "    scenarioidx.append(scenariostr.index('ENVIRONMENT ELEMENTS:'))\n",
    "\n",
    "if 'TRAFFIC ELEMENTS:' in scenariostr:\n",
    "    scenariodic[\"TrafficElements\"] = scenariostr.index('TRAFFIC ELEMENTS:')\n",
    "    scenarioidx.append(scenariostr.index('TRAFFIC ELEMENTS:'))\n",
    "\n",
    "scenarioidx.append(None)\n",
    "# scenarioidx.sort()\n",
    "\n",
    "inverted_dict = {v: k for k, v in scenariodic.items()}\n",
    "for i in range(0,len(scenarioidx)-1):\n",
    "\n",
    "    row_dic[inverted_dict[scenarioidx[i]]] = scenariostr[scenarioidx[i]:scenarioidx[i+1]]\n"
   ]
  },
  {
   "cell_type": "code",
   "execution_count": 168,
   "metadata": {},
   "outputs": [
    {
     "name": "stdout",
     "output_type": "stream",
     "text": [
      "0\n",
      "VERSION: 8.1\n",
      "EXTENSION: None\n",
      "AUTHOR: 'WMG, Intelligent Vehicles - V&V Team (https://warwick.ac.uk/fac/sci/wmg/research/cav/vandv/)'\n",
      "\n",
      "\n",
      "VERSION: 8.1\n",
      "EXTENSION: None\n",
      "AUTHOR: 'WMG, Intelligent Vehicles - V&V Team (https://warwick.ac.uk/fac/sci/wmg/research/cav/vandv/)'\n",
      "\n",
      "\n",
      "1\n",
      "SCENERY ELEMENTS:\n",
      "DO: Map - roads and junctions network [Network1] as: \n",
      "Junctions: None\n",
      "Roads:\n",
      "R1: \n",
      "START\n",
      "Road type [Motorway] as [R1] with zone as [N/A] AND speed limit of [N/A] in an [N/A] environment with \n",
      " Number of lanes [3] as [R1.L1, R1.L2, R1.L3] \n",
      " Road traffic direction [Right-handed] \n",
      " Lane type [Traffic lane]   \n",
      " Lane markings [Broken line] \n",
      " Horizontal road geometry [Straight] \n",
      " Vertical road geometry [Level plane]\n",
      " Transverse road geometry [Divided] \n",
      " Length [9000 to 11000] AND Lane width [3.4 to 3.7] \n",
      "END\n",
      "\n",
      "\n",
      "SCENERY ELEMENTS:\n",
      "DO: Map - roads and junctions network [Network1] as: \n",
      "Junctions: None\n",
      "Roads:\n",
      "R1: \n",
      "START\n",
      "Road type [Motorway] as [R1] with zone as [N/A] AND speed limit of [N/A] in an [N/A] environment with \n",
      " Number of lanes [3] as [R1.L1, R1.L2, R1.L3] \n",
      " Road traffic direction [Right-handed] \n",
      " Lane type [Traffic lane]   \n",
      " Lane markings [Broken line] \n",
      " Horizontal road geometry [Straight] \n",
      " Vertical road geometry [Level plane]\n",
      " Transverse road geometry [Divided] \n",
      " Length [9000 to 11000] AND Lane width [3.4 to 3.7] \n",
      "END\n",
      "\n",
      "\n",
      "2\n",
      "DYNAMIC ELEMENTS:\n",
      "INITIAL: \tVehicle [Ego] in [R1.L2] \n",
      "\t\tAND Vehicle [LeadVehicle] in [R1.L2] \n",
      "\t\t\twith a [Longitudinal] offset of [30 to 35]\n",
      "\t\t\tAND at relative position [F] with relative heading angle [0 to 5] to [Ego]\n",
      "\t\tAND Global timer [T1] = [0]\n",
      "WHEN: [Ego] is [Going_Ahead]\n",
      "\tDO: [LeadVehicle]\n",
      "\t\tPHASE 1:[Drive_Away][-, 16 to 17,  -0.1 to 0.1][Ego: -1 to 1, F]\n",
      "\t\t\tWHILE: [T1] < [10]\n",
      "\t\tPHASE 2:[Stop][-, 0 to 0, 0 to 0][Ego: -17 to -16, F]\n",
      "END: [T1] == [40]\n",
      "\n",
      "\n",
      "DYNAMIC ELEMENTS:\n",
      "INITIAL: \tVehicle [Ego] in [R1.L2] \n",
      "\t\tAND Vehicle [LeadVehicle] in [R1.L2] \n",
      "\t\t\twith a [Longitudinal] offset of [30 to 35]\n",
      "\t\t\tAND at relative position [F] with relative heading angle [0 to 5] to [Ego]\n",
      "\t\tAND Global timer [T1] = [0]\n",
      "WHEN: [Ego] is [Going_Ahead]\n",
      "\tDO: [LeadVehicle]\n",
      "\t\tPHASE 1:[Drive_Away][-, 16 to 17,  -0.1 to 0.1][Ego: -1 to 1, F]\n",
      "\t\t\tWHILE: [T1] < [10]\n",
      "\t\tPHASE 2:[Stop][-, 0 to 0, 0 to 0][Ego: -17 to -16, F]\n",
      "END: [T1] == [40]\n",
      "\n",
      "\n",
      "3\n",
      "\n",
      "ENVIRONMENT ELEMENTS:\n",
      "DO: [Env1]\n",
      "  Wind [0 to 0.2]\n",
      "  Cloudiness [0 to 1]\n",
      "  Particulates [None]\n",
      "  Rainfall [None: N/A]\n",
      "  Snowfall [None: N/A]\n",
      "  Time of the day [03:00 to 06:00]\n",
      "  Illumination [Day] with [Sun] as light source at [10 to 30] degree elevation AND [F] position\n"
     ]
    }
   ],
   "source": [
    "scenarioidx.append(None)\n",
    "# scenarioidx.sort()\n",
    "\n",
    "inverted_dict = {v: k for k, v in scenariodic.items()}\n",
    "for i in range(0,len(scenarioidx)-1):\n",
    "\n",
    "    row_dic[inverted_dict[scenarioidx[i]]] = scenariostr[scenarioidx[i]:scenarioidx[i+1]]\n",
    "    "
   ]
  },
  {
   "cell_type": "code",
   "execution_count": 169,
   "metadata": {},
   "outputs": [
    {
     "data": {
      "text/plain": [
       "{'VersionInfo': 0,\n",
       " 'SceneryElements': 133,\n",
       " 'DynamicElements': 659,\n",
       " 'EnvironmentElement': 1119}"
      ]
     },
     "execution_count": 169,
     "metadata": {},
     "output_type": "execute_result"
    },
    {
     "data": {
      "text/plain": [
       "\"VERSION: 8.1\\nEXTENSION: None\\nAUTHOR: 'WMG, Intelligent Vehicles - V&V Team (https://warwick.ac.uk/fac/sci/wmg/research/cav/vandv/)'\\n\\nSCENERY ELEMENTS:\\nDO: Map - roads and junctions network [Network1] as: \\nJunctions: None\\nRoads:\\nR1: \\nSTART\\nRoad type [Motorway] as [R1] with zone as [N/A] AND speed limit of [N/A] in an [N/A] environment with \\n Number of lanes [3] as [R1.L1, R1.L2, R1.L3] \\n Road traffic direction [Right-handed] \\n Lane type [Traffic lane]   \\n Lane markings [Broken line] \\n Horizontal road geometry [Straight] \\n Vertical road geometry [Level plane]\\n Transverse road geometry [Divided] \\n Length [9000 to 11000] AND Lane width [3.4 to 3.7] \\nEND\\n\\nDYNAMIC ELEMENTS:\\nINITIAL: \\tVehicle [Ego] in [R1.L2] \\n\\t\\tAND Vehicle [LeadVehicle] in [R1.L2] \\n\\t\\t\\twith a [Longitudinal] offset of [30 to 35]\\n\\t\\t\\tAND at relative position [F] with relative heading angle [0 to 5] to [Ego]\\n\\t\\tAND Global timer [T1] = [0]\\nWHEN: [Ego] is [Going_Ahead]\\n\\tDO: [LeadVehicle]\\n\\t\\tPHASE 1:[Drive_Away][-, 16 to 17,  -0.1 to 0.1][Ego: -1 to 1, F]\\n\\t\\t\\tWHILE: [T1] < [10]\\n\\t\\tPHASE 2:[Stop][-, 0 to 0, 0 to 0][Ego: -17 to -16, F]\\nEND: [T1] == [40]\\n\\nENVIRONMENT ELEMENTS:\\nDO: [Env1]\\n  Wind [0 to 0.2]\\n  Cloudiness [0 to 1]\\n  Particulates [None]\\n  Rainfall [None: N/A]\\n  Snowfall [None: N/A]\\n  Time of the day [03:00 to 06:00]\\n  Illumination [Day] with [Sun] as light source at [10 to 30] degree elevation AND [F] position\""
      ]
     },
     "execution_count": 169,
     "metadata": {},
     "output_type": "execute_result"
    },
    {
     "data": {
      "text/plain": [
       "[0, 133, 659, 1119, None]"
      ]
     },
     "execution_count": 169,
     "metadata": {},
     "output_type": "execute_result"
    },
    {
     "data": {
      "text/plain": [
       "{0: 'VersionInfo',\n",
       " 133: 'SceneryElements',\n",
       " 659: 'DynamicElements',\n",
       " 1119: 'EnvironmentElement'}"
      ]
     },
     "execution_count": 169,
     "metadata": {},
     "output_type": "execute_result"
    },
    {
     "data": {
      "text/plain": [
       "{'ScenarioID': '2caa3189-3a7c-4e20-8fe8-cda821b66b23',\n",
       " 'ScenarioDescription': 'ALKS Follow Lead Vehicle Emergency Brake',\n",
       " 'ParentReference': 'a5327c50-203e-4e59-822c-78d6a0e0617f',\n",
       " 'OwnerName': 'WMG',\n",
       " 'VersionInfo': \"VERSION: 8.1\\nEXTENSION: None\\nAUTHOR: 'WMG, Intelligent Vehicles - V&V Team (https://warwick.ac.uk/fac/sci/wmg/research/cav/vandv/)'\\n\\n\",\n",
       " 'SceneryElements': 'SCENERY ELEMENTS:\\nDO: Map - roads and junctions network [Network1] as: \\nJunctions: None\\nRoads:\\nR1: \\nSTART\\nRoad type [Motorway] as [R1] with zone as [N/A] AND speed limit of [N/A] in an [N/A] environment with \\n Number of lanes [3] as [R1.L1, R1.L2, R1.L3] \\n Road traffic direction [Right-handed] \\n Lane type [Traffic lane]   \\n Lane markings [Broken line] \\n Horizontal road geometry [Straight] \\n Vertical road geometry [Level plane]\\n Transverse road geometry [Divided] \\n Length [9000 to 11000] AND Lane width [3.4 to 3.7] \\nEND\\n\\n',\n",
       " 'EnvironmentElement': 'ENVIRONMENT ELEMENTS:\\nDO: [Env1]\\n  Wind [0 to 0.2]\\n  Cloudiness [0 to 1]\\n  Particulates [None]\\n  Rainfall [None: N/A]\\n  Snowfall [None: N/A]\\n  Time of the day [03:00 to 06:00]\\n  Illumination [Day] with [Sun] as light source at [10 to 30] degree elevation AND [F] position',\n",
       " 'DynamicElements': 'DYNAMIC ELEMENTS:\\nINITIAL: \\tVehicle [Ego] in [R1.L2] \\n\\t\\tAND Vehicle [LeadVehicle] in [R1.L2] \\n\\t\\t\\twith a [Longitudinal] offset of [30 to 35]\\n\\t\\t\\tAND at relative position [F] with relative heading angle [0 to 5] to [Ego]\\n\\t\\tAND Global timer [T1] = [0]\\nWHEN: [Ego] is [Going_Ahead]\\n\\tDO: [LeadVehicle]\\n\\t\\tPHASE 1:[Drive_Away][-, 16 to 17,  -0.1 to 0.1][Ego: -1 to 1, F]\\n\\t\\t\\tWHILE: [T1] < [10]\\n\\t\\tPHASE 2:[Stop][-, 0 to 0, 0 to 0][Ego: -17 to -16, F]\\nEND: [T1] == [40]\\n\\n',\n",
       " 'TrafficElements': '',\n",
       " 'HazardLevel': ''}"
      ]
     },
     "execution_count": 169,
     "metadata": {},
     "output_type": "execute_result"
    },
    {
     "data": {
      "text/plain": [
       "'ENVIRONMENT ELEMENTS:\\nDO: [Env1]\\n  Wind [0 to 0.2]\\n  Cloudiness [0 to 1]\\n  Particulates [None]\\n  Rainfall [None: N/A]\\n  Snowfall [None: N/A]\\n  Time of the day [03:00 to 06:00]\\n  Illumination [Day] with [Sun] as light source at [10 to 30] degree elevation AND [F] position'"
      ]
     },
     "execution_count": 169,
     "metadata": {},
     "output_type": "execute_result"
    }
   ],
   "source": [
    "scenariodic\n",
    "scenariostr\n",
    "scenarioidx\n",
    "inverted_dict\n",
    "# inverted_dict[\"i\"]\n",
    "row_dic\n",
    "scenariostr[1119: ]\n",
    "\n",
    "\n",
    "\n",
    "\n"
   ]
  },
  {
   "cell_type": "code",
   "execution_count": 52,
   "metadata": {},
   "outputs": [],
   "source": [
    "#  Make xlsx file \n",
    "#  What can we do?\n",
    "#  We can try with something very simple like making a data frame and making a excel file, again it will be easy to \n",
    "# load the excel as a dataframe and do queries over it"
   ]
  },
  {
   "cell_type": "code",
   "execution_count": 113,
   "metadata": {},
   "outputs": [],
   "source": [
    "import pandas as pd\n",
    "# "
   ]
  },
  {
   "cell_type": "code",
   "execution_count": 55,
   "metadata": {},
   "outputs": [
    {
     "data": {
      "text/plain": [
       "'\\n1) Scenario ID\\n2) Scenario Name\\n3) Library Name\\n4) Version Info\\n5) Scenery Elements\\n6) Dynamic Elements\\n7) Traffic Elements\\n'"
      ]
     },
     "execution_count": 55,
     "metadata": {},
     "output_type": "execute_result"
    }
   ],
   "source": [
    "# Things we want in the catalog\n",
    "\"\"\"\n",
    "1) Scenario ID\n",
    "2) Scenario Name\n",
    "3) Library Name\n",
    "4) Version Info\n",
    "5) Scenery Elements\n",
    "6) Dynamic Elements\n",
    "7) Traffic Elements\n",
    "\"\"\""
   ]
  },
  {
   "cell_type": "code",
   "execution_count": 120,
   "metadata": {},
   "outputs": [],
   "source": [
    "row_dic = {\"Scenario_ID\":\"\",\"Scenario_Name\":\"\",\"Version_Info\":\"\",\"Library_Name\":\"\",\"Scenery_Elements\":\"\",\"Dynamic_Elements\":\"\",\"Traffic_Elements\":\"\"}\n",
    "column_list = [\"Scenario_ID\",\"Scenario_Name\",\"Library_Name\",\"Version_Info\",\"Scenery_Elements\",\"Dynamic_Elements\",\"Traffic_Elements\"]"
   ]
  },
  {
   "cell_type": "code",
   "execution_count": 128,
   "metadata": {},
   "outputs": [
    {
     "data": {
      "text/plain": [
       "{'Scenario_ID': '',\n",
       " 'Scenario_Name': '',\n",
       " 'Version_Info': '',\n",
       " 'Library_Name': '',\n",
       " 'Scenery_Elements': '',\n",
       " 'Dynamic_Elements': '',\n",
       " 'Traffic_Elements': ''}"
      ]
     },
     "execution_count": 128,
     "metadata": {},
     "output_type": "execute_result"
    },
    {
     "data": {
      "text/html": [
       "<div>\n",
       "<style scoped>\n",
       "    .dataframe tbody tr th:only-of-type {\n",
       "        vertical-align: middle;\n",
       "    }\n",
       "\n",
       "    .dataframe tbody tr th {\n",
       "        vertical-align: top;\n",
       "    }\n",
       "\n",
       "    .dataframe thead th {\n",
       "        text-align: right;\n",
       "    }\n",
       "</style>\n",
       "<table border=\"1\" class=\"dataframe\">\n",
       "  <thead>\n",
       "    <tr style=\"text-align: right;\">\n",
       "      <th></th>\n",
       "      <th>Scenario_ID</th>\n",
       "      <th>Scenario_Name</th>\n",
       "      <th>Version_Info</th>\n",
       "      <th>Library_Name</th>\n",
       "      <th>Scenery_Elements</th>\n",
       "      <th>Dynamic_Elements</th>\n",
       "      <th>Traffic_Elements</th>\n",
       "    </tr>\n",
       "  </thead>\n",
       "  <tbody>\n",
       "    <tr>\n",
       "      <th>0</th>\n",
       "      <td></td>\n",
       "      <td></td>\n",
       "      <td></td>\n",
       "      <td></td>\n",
       "      <td></td>\n",
       "      <td></td>\n",
       "      <td></td>\n",
       "    </tr>\n",
       "  </tbody>\n",
       "</table>\n",
       "</div>"
      ],
      "text/plain": [
       "  Scenario_ID Scenario_Name Version_Info Library_Name Scenery_Elements   \n",
       "0                                                                       \\\n",
       "\n",
       "  Dynamic_Elements Traffic_Elements  \n",
       "0                                    "
      ]
     },
     "execution_count": 128,
     "metadata": {},
     "output_type": "execute_result"
    }
   ],
   "source": [
    "row_dic\n",
    "df = pd.DataFrame([row_dic])\n",
    "\n",
    "df"
   ]
  },
  {
   "cell_type": "code",
   "execution_count": 106,
   "metadata": {},
   "outputs": [],
   "source": [
    "df.loc[[0],['Version_Info']]=', '.join(dic['VERSION'])\n",
    "# ','.join(dic['VERSION'])\n",
    "df.loc[[0],['Scenery_Elements']]=', '.join(dic['SCENERY ELEMENTS'])\n"
   ]
  },
  {
   "cell_type": "code",
   "execution_count": 108,
   "metadata": {},
   "outputs": [
    {
     "data": {
      "text/html": [
       "<div>\n",
       "<style scoped>\n",
       "    .dataframe tbody tr th:only-of-type {\n",
       "        vertical-align: middle;\n",
       "    }\n",
       "\n",
       "    .dataframe tbody tr th {\n",
       "        vertical-align: top;\n",
       "    }\n",
       "\n",
       "    .dataframe thead th {\n",
       "        text-align: right;\n",
       "    }\n",
       "</style>\n",
       "<table border=\"1\" class=\"dataframe\">\n",
       "  <thead>\n",
       "    <tr style=\"text-align: right;\">\n",
       "      <th></th>\n",
       "      <th>Scenario_ID</th>\n",
       "      <th>Scenario_Name</th>\n",
       "      <th>Library_Name</th>\n",
       "      <th>Version_Info</th>\n",
       "      <th>Scenery_Elements</th>\n",
       "      <th>Dynamic_Elements</th>\n",
       "      <th>Traffic_Elements</th>\n",
       "    </tr>\n",
       "  </thead>\n",
       "  <tbody>\n",
       "    <tr>\n",
       "      <th>0</th>\n",
       "      <td>1</td>\n",
       "      <td>1</td>\n",
       "      <td>1</td>\n",
       "      <td>VERSION: 8.1, EXTENSION: None, AUTHOR: 'WMG, I...</td>\n",
       "      <td>DO: Map - roads and junctions network [Network...</td>\n",
       "      <td>1</td>\n",
       "      <td>1</td>\n",
       "    </tr>\n",
       "  </tbody>\n",
       "</table>\n",
       "</div>"
      ],
      "text/plain": [
       "   Scenario_ID  Scenario_Name  Library_Name   \n",
       "0            1              1             1  \\\n",
       "\n",
       "                                        Version_Info   \n",
       "0  VERSION: 8.1, EXTENSION: None, AUTHOR: 'WMG, I...  \\\n",
       "\n",
       "                                    Scenery_Elements  Dynamic_Elements   \n",
       "0  DO: Map - roads and junctions network [Network...                 1  \\\n",
       "\n",
       "   Traffic_Elements  \n",
       "0                 1  "
      ]
     },
     "execution_count": 108,
     "metadata": {},
     "output_type": "execute_result"
    }
   ],
   "source": [
    "# '\\n'.join(dic['VERSION'])\n",
    "# df['Scenery_Elements'][0]\n",
    "df"
   ]
  }
 ],
 "metadata": {
  "kernelspec": {
   "display_name": "safetypoolapi",
   "language": "python",
   "name": "python3"
  },
  "language_info": {
   "codemirror_mode": {
    "name": "ipython",
    "version": 3
   },
   "file_extension": ".py",
   "mimetype": "text/x-python",
   "name": "python",
   "nbconvert_exporter": "python",
   "pygments_lexer": "ipython3",
   "version": "3.11.2"
  },
  "orig_nbformat": 4
 },
 "nbformat": 4,
 "nbformat_minor": 2
}
